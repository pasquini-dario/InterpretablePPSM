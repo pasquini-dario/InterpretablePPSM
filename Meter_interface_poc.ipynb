{
 "cells": [
  {
   "cell_type": "markdown",
   "metadata": {},
   "source": [
    "## Load Model"
   ]
  },
  {
   "cell_type": "code",
   "execution_count": 2,
   "metadata": {},
   "outputs": [
    {
     "name": "stderr",
     "output_type": "stream",
     "text": [
      "WARNING: Logging before flag parsing goes to stderr.\n",
      "W1019 16:59:20.114181 4355685824 module_wrapper.py:139] From /Users/pasquini/Desktop/G/InterpretablePPSM/inference_poc.py:60: The name tf.logging.set_verbosity is deprecated. Please use tf.compat.v1.logging.set_verbosity instead.\n",
      "\n",
      "W1019 16:59:20.114948 4355685824 module_wrapper.py:139] From /Users/pasquini/Desktop/G/InterpretablePPSM/inference_poc.py:60: The name tf.logging.ERROR is deprecated. Please use tf.compat.v1.logging.ERROR instead.\n",
      "\n"
     ]
    }
   ],
   "source": [
    "import matplotlib.pyplot as plt\n",
    "%matplotlib inline\n",
    "from inference_poc import Inference\n",
    "from interface import plot\n",
    "\n",
    "model_path = 'PRETRAINED_MODELs/very_small/'\n",
    "\n",
    "S = Inference(model_path)\n",
    "S.sess = None"
   ]
  },
  {
   "cell_type": "markdown",
   "metadata": {},
   "source": [
    "# Improve your Password with a Neural Network:\n",
    "Use the variable $\\texttt{password}$ in the cell bellow.\n",
    "\n",
    "Colors depict the security contribute of each character in the password:\n",
    "* <span style=\"color:red\">Red</span> equals <span style=\"color:red\">insecure</span> (You should change that character)\n",
    "* <span style=\"color:green\">Green</span> equals <span style=\"color:green\">secure</span> (You can keep it unchanged)"
   ]
  },
  {
   "cell_type": "code",
   "execution_count": 3,
   "metadata": {},
   "outputs": [
    {
     "data": {
      "image/png": "[encoded data removed]",
      "text/plain": [
       "<Figure size 504x36 with 1 Axes>"
      ]
     },
     "metadata": {},
     "output_type": "display_data"
    }
   ],
   "source": [
    "password = 'Ins#Cu%e_pass1'\n",
    "plot(S, password, CC=True, P=True)"
   ]
  },
  {
   "cell_type": "code",
   "execution_count": null,
   "metadata": {},
   "outputs": [],
   "source": []
  }
 ],
 "metadata": {
  "kernelspec": {
   "display_name": "Python 3",
   "language": "python",
   "name": "python3"
  },
  "language_info": {
   "codemirror_mode": {
    "name": "ipython",
    "version": 3
   },
   "file_extension": ".py",
   "mimetype": "text/x-python",
   "name": "python",
   "nbconvert_exporter": "python",
   "pygments_lexer": "ipython3",
   "version": "3.7.3"
  }
 },
 "nbformat": 4,
 "nbformat_minor": 4
}
